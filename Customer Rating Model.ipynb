{
 "cells": [
  {
   "cell_type": "code",
   "execution_count": 1,
   "metadata": {},
   "outputs": [],
   "source": [
    "#Importing common Lib\n",
    "import selenium\n",
    "import pandas as pd\n",
    "import time\n",
    "from bs4 import BeautifulSoup\n",
    "\n",
    "#importing selenium web driver\n",
    "from selenium import webdriver\n",
    "\n",
    "#for press the enter\n",
    "from selenium.webdriver.common.keys import Keys\n",
    "\n",
    "# Importing required Exceptions which needs to handled\n",
    "from selenium.common.exceptions import StaleElementReferenceException, NoSuchElementException\n",
    "\n",
    "#Importing requests\n",
    "import requests\n",
    "\n",
    "# importing regex\n",
    "import re\n",
    "\n",
    "#for saving the image file\n",
    "import urllib.request\n",
    "\n",
    "#for the right click button\n",
    "from selenium.webdriver import ActionChains"
   ]
  },
  {
   "cell_type": "code",
   "execution_count": 2,
   "metadata": {},
   "outputs": [],
   "source": [
    "#importing the driver from the crome\n",
    "driver=webdriver.Chrome(r'D:\\Datatrained\\Web Scrapping\\chromedriver.exe')\n",
    "\n",
    "#opening the webpage url:\n",
    "url=('https://www.flipkart.com/')\n",
    "driver.get(url)\n",
    "\n",
    "time.sleep(2)\n",
    "\n",
    "#closing the login page\n",
    "search_cls=driver.find_element_by_xpath('//button[@class=\"_2KpZ6l _2doB4z\"]')\n",
    "search_cls.click()\n",
    "\n",
    "#taking the input from the user\n",
    "#use_inp=input('Enter the phone you want to search on flipkart: ')\n",
    "\n",
    "#entering the input element in the search box\n",
    "flip_sear=driver.find_element_by_xpath('//input[@class=\"_3704LK\"]')\n",
    "flip_sear.send_keys('phones')\n",
    "\n",
    "#Click on search\n",
    "btn=driver.find_element_by_xpath('//button[@class=\"L0Z3Pu\"]')\n",
    "btn.click()\n",
    "\n",
    "time.sleep(5)\n",
    "        \n",
    "#fetching the url to get all the details\n",
    "prd_url=[]\n",
    "brand_name=[]\n",
    "smrtphn_name=[]\n",
    "\n",
    "#fetching the product url\n",
    "for q in driver.find_elements_by_xpath('//a[@class=\"_1fQZEK\"]'):\n",
    "    prd_url.append(q.get_attribute('href'))\n",
    "    \n",
    "time.sleep(5)   \n",
    "lnk_url=[]\n",
    "page_url=[]\n",
    "data_review=[]\n",
    "data_rating=[]\n",
    "\n",
    "\n",
    "for i in prd_url:\n",
    "    driver.get(i)\n",
    "    \n",
    "        #fetching the product url\n",
    "    for q in driver.find_elements_by_xpath('//*[@id=\"container\"]/div/div[3]/div[1]/div[2]/div[9]/div[7]/div/a'):\n",
    "        lnk_url.append(q.get_attribute('href'))\n",
    "        \n",
    "    for i in lnk_url:\n",
    "        driver.get(i)\n",
    "        \n",
    "        for a in driver.find_elements_by_xpath(\"//nav[@class='yFHi8N']/a\"):\n",
    "            page_url.append(a.get_attribute('href'))\n",
    "        \n",
    "        for i in page_url[1:]:\n",
    "            driver.get(i) \n",
    "        \n",
    "            #fetching review           \n",
    "            review=driver.find_elements_by_xpath(\"//div[@class='t-ZTKy']\")\n",
    "            for i in review:\n",
    "                if i.text is None :\n",
    "                    data_review.append(\"_\") \n",
    "                else:\n",
    "                    data_review.append(i.text.replace('\\n','').replace('🔋','').replace('😍','').replace('🤳','').replace('👍','').replace('👌','').replace('🎉','').replace('😘','').replace('🔥','').replace('🤗','').replace('👑','').replace('❤️','')) \n",
    "           \n",
    "            #fetching rating        \n",
    "            rating=driver.find_elements_by_xpath(\"//div[@class='col _2wzgFH K0kLPL']/div[1]/div[1]\")\n",
    "            for i in rating:\n",
    "                if i.text is None :\n",
    "                    data_rating.append(\"_\") \n",
    "                else:\n",
    "                    data_rating.append(i.text)    \n",
    "                    \n",
    "#entering the input element in the search box\n",
    "search_bar = driver.find_element_by_name(\"q\")\n",
    "search_bar.click()\n",
    "search_bar.clear()\n",
    "search_bar.send_keys(\"smart watches\")\n",
    "\n",
    "#Click on search\n",
    "btn=driver.find_element_by_xpath('//button[@class=\"L0Z3Pu\"]')\n",
    "btn.click()\n",
    "\n",
    "time.sleep(5)\n",
    "        \n",
    "#fetching the url to get all the details\n",
    "prd_url1=[]\n",
    "brand_name1=[]\n",
    "smrtphn_name1=[]\n",
    "\n",
    "\n",
    "#fetching the product url\n",
    "for q in driver.find_elements_by_xpath('//a[@class=\"_1fQZEK\"]'):\n",
    "    prd_url1.append(q.get_attribute('href'))\n",
    "    \n",
    "    \n",
    "lnk_url1=[]\n",
    "page_url1=[]\n",
    "\n",
    "for i in prd_url1[:25]:\n",
    "    driver.get(i)\n",
    "    \n",
    "    total_height = int(driver.execute_script(\"return document.body.scrollHeight\"))\n",
    "    for i in range(1, total_height,10):\n",
    "        driver.execute_script(\"window.scrollTo(0, {});\".format(i))\n",
    "    \n",
    "        #fetching the product url\n",
    "    for q in driver.find_elements_by_xpath('//*[@id=\"container\"]/div/div[3]/div[1]/div[2]/div[7]/div[5]/div/a'):\n",
    "        lnk_url1.append(q.get_attribute('href'))\n",
    "        \n",
    "    for i in lnk_url1:\n",
    "        driver.get(i)\n",
    "        \n",
    "        for a in driver.find_elements_by_xpath(\"//nav[@class='yFHi8N']/a\"):\n",
    "            page_url1.append(a.get_attribute('href'))\n",
    "        \n",
    "        for i in page_url1[1:11]:\n",
    "            driver.get(i) \n",
    "        \n",
    "            #fetching review           \n",
    "            review=driver.find_elements_by_xpath(\"//div[@class='t-ZTKy']\")\n",
    "            for i in review:\n",
    "                if i.text is None :\n",
    "                    data_review.append(\"_\") \n",
    "                else:\n",
    "                    data_review.append(i.text.replace('\\n','').replace('🔋','').replace('😍','').replace('🤳','').replace('👍','').replace('👌','').replace('🎉','').replace('😘','').replace('🔥','').replace('🤗','').replace('👑','').replace('❤️','')) \n",
    "\n",
    "            #fetching rating        \n",
    "            rating=driver.find_elements_by_xpath(\"//div[@class='col _2wzgFH K0kLPL']/div[1]/div[1]\")\n",
    "            for i in rating:\n",
    "                if i.text is None :\n",
    "                    data_rating.append(\"_\") \n",
    "                else:\n",
    "                    data_rating.append(i.text) \n",
    "                    \n",
    "time.sleep(5)  \n",
    "#creating the dataframe\n",
    "df1=pd.DataFrame({})\n",
    "df1['Review']=data_review\n",
    "df1['Rating']=data_rating\n",
    " \n",
    "\n",
    "#exporting data to csv\n",
    "df1.to_csv('Rating1.csv', index=False)                    "
   ]
  },
  {
   "cell_type": "code",
   "execution_count": 1,
   "metadata": {},
   "outputs": [],
   "source": [
    "#common lib\n",
    "import pandas as pd\n",
    "import numpy as np\n",
    "import matplotlib.pyplot as plt\n",
    "import seaborn as sns\n",
    "%matplotlib inline\n",
    "\n",
    "#Preprecessing Lib\n",
    "from sklearn.preprocessing import LabelEncoder,OneHotEncoder,StandardScaler\n",
    "from sklearn.model_selection import train_test_split\n",
    "\n",
    "#outliars and skewness\n",
    "from scipy import stats\n",
    "from sklearn.preprocessing import power_transform\n",
    "\n",
    "#multicoliniarity lib\n",
    "from statsmodels.stats.outliers_influence import variance_inflation_factor\n",
    "\n",
    "#model lib\n",
    "from sklearn.linear_model import LogisticRegression\n",
    "from sklearn.tree import DecisionTreeClassifier\n",
    "from sklearn.neighbors import KNeighborsClassifier\n",
    "from sklearn.ensemble import RandomForestClassifier,AdaBoostClassifier,GradientBoostingClassifier\n",
    "from sklearn.svm import SVC\n",
    "from sklearn.naive_bayes import MultinomialNB\n",
    "\n",
    "#Model Evaluation\n",
    "from sklearn.metrics import classification_report,mean_squared_error,mean_absolute_error,accuracy_score,confusion_matrix,plot_roc_curve\n",
    "\n",
    "#model cross validation\n",
    "from sklearn.model_selection import cross_val_score\n",
    "\n",
    "\n",
    "#Hyper parameter tuning\n",
    "from sklearn.model_selection import GridSearchCV\n",
    "from sklearn.model_selection import RandomizedSearchCV\n",
    "\n",
    "import warnings\n",
    "warnings.filterwarnings('ignore')"
   ]
  },
  {
   "cell_type": "code",
   "execution_count": 2,
   "metadata": {},
   "outputs": [
    {
     "data": {
      "text/html": [
       "<div>\n",
       "<style scoped>\n",
       "    .dataframe tbody tr th:only-of-type {\n",
       "        vertical-align: middle;\n",
       "    }\n",
       "\n",
       "    .dataframe tbody tr th {\n",
       "        vertical-align: top;\n",
       "    }\n",
       "\n",
       "    .dataframe thead th {\n",
       "        text-align: right;\n",
       "    }\n",
       "</style>\n",
       "<table border=\"1\" class=\"dataframe\">\n",
       "  <thead>\n",
       "    <tr style=\"text-align: right;\">\n",
       "      <th></th>\n",
       "      <th>Review</th>\n",
       "      <th>Rating</th>\n",
       "    </tr>\n",
       "  </thead>\n",
       "  <tbody>\n",
       "    <tr>\n",
       "      <th>0</th>\n",
       "      <td>I am writing this review after using this mobi...</td>\n",
       "      <td>5</td>\n",
       "    </tr>\n",
       "    <tr>\n",
       "      <th>1</th>\n",
       "      <td>This product was absolutely good and it is ver...</td>\n",
       "      <td>5</td>\n",
       "    </tr>\n",
       "    <tr>\n",
       "      <th>2</th>\n",
       "      <td>Everything is better of the phone except of fr...</td>\n",
       "      <td>5</td>\n",
       "    </tr>\n",
       "    <tr>\n",
       "      <th>3</th>\n",
       "      <td>It's a value for money product.. But if you r ...</td>\n",
       "      <td>4</td>\n",
       "    </tr>\n",
       "    <tr>\n",
       "      <th>4</th>\n",
       "      <td>This phone is pretty decentBattery backup and ...</td>\n",
       "      <td>4</td>\n",
       "    </tr>\n",
       "  </tbody>\n",
       "</table>\n",
       "</div>"
      ],
      "text/plain": [
       "                                              Review  Rating\n",
       "0  I am writing this review after using this mobi...       5\n",
       "1  This product was absolutely good and it is ver...       5\n",
       "2  Everything is better of the phone except of fr...       5\n",
       "3  It's a value for money product.. But if you r ...       4\n",
       "4  This phone is pretty decentBattery backup and ...       4"
      ]
     },
     "execution_count": 2,
     "metadata": {},
     "output_type": "execute_result"
    }
   ],
   "source": [
    "#loading the dataset\n",
    "df=pd.read_csv('Rating1.csv',index_col=False)\n",
    "df.head()"
   ]
  },
  {
   "cell_type": "code",
   "execution_count": 3,
   "metadata": {},
   "outputs": [
    {
     "data": {
      "text/plain": [
       "(24113, 2)"
      ]
     },
     "execution_count": 3,
     "metadata": {},
     "output_type": "execute_result"
    }
   ],
   "source": [
    "#checking the shape of dataframe\n",
    "df.shape"
   ]
  },
  {
   "cell_type": "code",
   "execution_count": 4,
   "metadata": {},
   "outputs": [],
   "source": [
    "#pd.set_option('display.max_rows',None)"
   ]
  },
  {
   "cell_type": "code",
   "execution_count": 5,
   "metadata": {},
   "outputs": [
    {
     "name": "stdout",
     "output_type": "stream",
     "text": [
      "<class 'pandas.core.frame.DataFrame'>\n",
      "RangeIndex: 24113 entries, 0 to 24112\n",
      "Data columns (total 2 columns):\n",
      " #   Column  Non-Null Count  Dtype \n",
      "---  ------  --------------  ----- \n",
      " 0   Review  24113 non-null  object\n",
      " 1   Rating  24113 non-null  int64 \n",
      "dtypes: int64(1), object(1)\n",
      "memory usage: 376.9+ KB\n"
     ]
    }
   ],
   "source": [
    "# check information of dataset\n",
    "df.info()"
   ]
  },
  {
   "cell_type": "code",
   "execution_count": 6,
   "metadata": {},
   "outputs": [
    {
     "data": {
      "text/plain": [
       "Review    0\n",
       "Rating    0\n",
       "dtype: int64"
      ]
     },
     "execution_count": 6,
     "metadata": {},
     "output_type": "execute_result"
    }
   ],
   "source": [
    "#checking the null values in dataset\n",
    "df.isnull().sum()"
   ]
  },
  {
   "cell_type": "code",
   "execution_count": 7,
   "metadata": {},
   "outputs": [],
   "source": [
    "#there is no null values available in the  dataset."
   ]
  },
  {
   "cell_type": "code",
   "execution_count": 8,
   "metadata": {},
   "outputs": [
    {
     "data": {
      "text/plain": [
       "<AxesSubplot:>"
      ]
     },
     "execution_count": 8,
     "metadata": {},
     "output_type": "execute_result"
    },
    {
     "data": {
      "image/png": "[encoded data removed]",
      "text/plain": [
       "<Figure size 432x288 with 2 Axes>"
      ]
     },
     "metadata": {
      "needs_background": "light"
     },
     "output_type": "display_data"
    }
   ],
   "source": [
    "# check null values of train data using heatmap\n",
    "sns.heatmap(df.isnull())"
   ]
  },
  {
   "cell_type": "code",
   "execution_count": 9,
   "metadata": {},
   "outputs": [
    {
     "data": {
      "text/html": [
       "<div>\n",
       "<style scoped>\n",
       "    .dataframe tbody tr th:only-of-type {\n",
       "        vertical-align: middle;\n",
       "    }\n",
       "\n",
       "    .dataframe tbody tr th {\n",
       "        vertical-align: top;\n",
       "    }\n",
       "\n",
       "    .dataframe thead th {\n",
       "        text-align: right;\n",
       "    }\n",
       "</style>\n",
       "<table border=\"1\" class=\"dataframe\">\n",
       "  <thead>\n",
       "    <tr style=\"text-align: right;\">\n",
       "      <th></th>\n",
       "      <th>Review</th>\n",
       "      <th>Rating</th>\n",
       "    </tr>\n",
       "  </thead>\n",
       "  <tbody>\n",
       "    <tr>\n",
       "      <th>count</th>\n",
       "      <td>24113</td>\n",
       "      <td>24113.000000</td>\n",
       "    </tr>\n",
       "    <tr>\n",
       "      <th>unique</th>\n",
       "      <td>354</td>\n",
       "      <td>NaN</td>\n",
       "    </tr>\n",
       "    <tr>\n",
       "      <th>top</th>\n",
       "      <td>Good</td>\n",
       "      <td>NaN</td>\n",
       "    </tr>\n",
       "    <tr>\n",
       "      <th>freq</th>\n",
       "      <td>829</td>\n",
       "      <td>NaN</td>\n",
       "    </tr>\n",
       "    <tr>\n",
       "      <th>mean</th>\n",
       "      <td>NaN</td>\n",
       "      <td>4.305644</td>\n",
       "    </tr>\n",
       "    <tr>\n",
       "      <th>std</th>\n",
       "      <td>NaN</td>\n",
       "      <td>1.034078</td>\n",
       "    </tr>\n",
       "    <tr>\n",
       "      <th>min</th>\n",
       "      <td>NaN</td>\n",
       "      <td>1.000000</td>\n",
       "    </tr>\n",
       "    <tr>\n",
       "      <th>25%</th>\n",
       "      <td>NaN</td>\n",
       "      <td>4.000000</td>\n",
       "    </tr>\n",
       "    <tr>\n",
       "      <th>50%</th>\n",
       "      <td>NaN</td>\n",
       "      <td>5.000000</td>\n",
       "    </tr>\n",
       "    <tr>\n",
       "      <th>75%</th>\n",
       "      <td>NaN</td>\n",
       "      <td>5.000000</td>\n",
       "    </tr>\n",
       "    <tr>\n",
       "      <th>max</th>\n",
       "      <td>NaN</td>\n",
       "      <td>5.000000</td>\n",
       "    </tr>\n",
       "  </tbody>\n",
       "</table>\n",
       "</div>"
      ],
      "text/plain": [
       "       Review        Rating\n",
       "count   24113  24113.000000\n",
       "unique    354           NaN\n",
       "top      Good           NaN\n",
       "freq      829           NaN\n",
       "mean      NaN      4.305644\n",
       "std       NaN      1.034078\n",
       "min       NaN      1.000000\n",
       "25%       NaN      4.000000\n",
       "50%       NaN      5.000000\n",
       "75%       NaN      5.000000\n",
       "max       NaN      5.000000"
      ]
     },
     "execution_count": 9,
     "metadata": {},
     "output_type": "execute_result"
    }
   ],
   "source": [
    "# check discriptive statistics of the train dataset\n",
    "df.describe(include='all')"
   ]
  },
  {
   "cell_type": "code",
   "execution_count": 10,
   "metadata": {},
   "outputs": [],
   "source": [
    "#there is no duplicate data in the Review column."
   ]
  },
  {
   "cell_type": "code",
   "execution_count": 11,
   "metadata": {},
   "outputs": [],
   "source": [
    " #Libraries for the text preprocessing\n",
    "import re\n",
    "from nltk.stem import WordNetLemmatizer\n",
    "from nltk.corpus import stopwords\n",
    "from sklearn.feature_extraction.text import TfidfVectorizer\n",
    "from imblearn.over_sampling import SMOTE"
   ]
  },
  {
   "cell_type": "code",
   "execution_count": 12,
   "metadata": {},
   "outputs": [],
   "source": [
    "#defining the objects\n",
    "lemmnizer=WordNetLemmatizer()\n",
    "#stop = stopwords.words('english')\n",
    "sm=SMOTE()\n",
    "corpus=[]"
   ]
  },
  {
   "cell_type": "code",
   "execution_count": 13,
   "metadata": {},
   "outputs": [],
   "source": [
    "#data cleaning and preprocessing on df dataset\n",
    "for i in range(0,len(df)):\n",
    "    review=re.sub('[^a-zA-Z]',' ',df['Review'][i])\n",
    "    review=review.lower()\n",
    "    review=review.split()\n",
    "    \n",
    "    review=[lemmnizer.lemmatize(word) for word in review if not word in stopwords.words('english')]\n",
    "    review=' '.join(review)\n",
    "    corpus.append(review)"
   ]
  },
  {
   "cell_type": "code",
   "execution_count": 17,
   "metadata": {},
   "outputs": [],
   "source": [
    "#creating the TF/IDF:\n",
    "from sklearn.feature_extraction.text import TfidfVectorizer\n",
    "tv=TfidfVectorizer(max_features=2000)"
   ]
  },
  {
   "cell_type": "code",
   "execution_count": 18,
   "metadata": {},
   "outputs": [],
   "source": [
    "x=tv.fit_transform(corpus).toarray()"
   ]
  },
  {
   "cell_type": "code",
   "execution_count": 19,
   "metadata": {},
   "outputs": [],
   "source": [
    "#seprating label from the dataframe\n",
    "y=df['Rating']"
   ]
  },
  {
   "cell_type": "code",
   "execution_count": 20,
   "metadata": {},
   "outputs": [
    {
     "data": {
      "text/plain": [
       "5    13750\n",
       "4     6745\n",
       "3     2047\n",
       "1     1191\n",
       "2      380\n",
       "Name: Rating, dtype: int64"
      ]
     },
     "execution_count": 20,
     "metadata": {},
     "output_type": "execute_result"
    }
   ],
   "source": [
    "y.value_counts()"
   ]
  },
  {
   "cell_type": "code",
   "execution_count": 21,
   "metadata": {},
   "outputs": [
    {
     "data": {
      "image/png": "[encoded data removed]",
      "text/plain": [
       "<Figure size 432x288 with 1 Axes>"
      ]
     },
     "metadata": {
      "needs_background": "light"
     },
     "output_type": "display_data"
    }
   ],
   "source": [
    "#Plotting count plot for the label\n",
    "sns.countplot(df['Rating'])\n",
    "plt.show()"
   ]
  },
  {
   "cell_type": "code",
   "execution_count": 22,
   "metadata": {},
   "outputs": [],
   "source": [
    "#here we can see data imbalaced issue in the Rating column.\n",
    "#using Oversampling method to solve the data imbalanced problem."
   ]
  },
  {
   "cell_type": "code",
   "execution_count": 23,
   "metadata": {},
   "outputs": [
    {
     "name": "stdout",
     "output_type": "stream",
     "text": [
      "float64 int64\n"
     ]
    }
   ],
   "source": [
    "#checking the data type of both test and train data set\n",
    "print(x.dtype,y.dtype)"
   ]
  },
  {
   "cell_type": "code",
   "execution_count": 24,
   "metadata": {},
   "outputs": [],
   "source": [
    "#conceveting both data to float16\n",
    "x = x.astype('float16')\n",
    "y = y.astype('float16')"
   ]
  },
  {
   "cell_type": "code",
   "execution_count": 25,
   "metadata": {},
   "outputs": [
    {
     "name": "stdout",
     "output_type": "stream",
     "text": [
      "float16 float16\n"
     ]
    }
   ],
   "source": [
    "#checking the data type of both test and train data set\n",
    "print(x.dtype,y.dtype)"
   ]
  },
  {
   "cell_type": "code",
   "execution_count": 26,
   "metadata": {},
   "outputs": [
    {
     "name": "stdout",
     "output_type": "stream",
     "text": [
      "(24113, 1334) (24113,)\n"
     ]
    }
   ],
   "source": [
    "#checking the shape of x and y:\n",
    "print(x.shape,y.shape)"
   ]
  },
  {
   "cell_type": "code",
   "execution_count": 27,
   "metadata": {},
   "outputs": [],
   "source": [
    "#performing over sampling method\n",
    "x_fit,y_fit=sm.fit_resample(x,y)"
   ]
  },
  {
   "cell_type": "code",
   "execution_count": 28,
   "metadata": {},
   "outputs": [
    {
     "data": {
      "text/plain": [
       "4.0    13750\n",
       "3.0    13750\n",
       "1.0    13750\n",
       "2.0    13750\n",
       "5.0    13750\n",
       "Name: Rating, dtype: int64"
      ]
     },
     "execution_count": 28,
     "metadata": {},
     "output_type": "execute_result"
    }
   ],
   "source": [
    "#checking the y-fit value counts\n",
    "y_fit.value_counts()"
   ]
  },
  {
   "cell_type": "code",
   "execution_count": 29,
   "metadata": {},
   "outputs": [
    {
     "data": {
      "image/png": "[encoded data removed]",
      "text/plain": [
       "<Figure size 432x288 with 1 Axes>"
      ]
     },
     "metadata": {
      "needs_background": "light"
     },
     "output_type": "display_data"
    }
   ],
   "source": [
    "#Plotting count plot for the label\n",
    "sns.countplot(y_fit)\n",
    "plt.show()"
   ]
  },
  {
   "cell_type": "code",
   "execution_count": 30,
   "metadata": {},
   "outputs": [],
   "source": [
    "#seprating the train and test datasets with the best find random state\n",
    "x_train,x_test,y_train,y_test=train_test_split(x_fit,y_fit,test_size=0.20,random_state=1)"
   ]
  },
  {
   "cell_type": "code",
   "execution_count": 31,
   "metadata": {},
   "outputs": [
    {
     "name": "stdout",
     "output_type": "stream",
     "text": [
      "\n",
      "==========Outputs of MultinomialNB===========\n",
      "\n",
      "==========Accuracy Score===========\n",
      "Accuracy Score is : 89.38%\n",
      "\n",
      "======Classification Report=============\n",
      "              precision    recall  f1-score   support\n",
      "\n",
      "         1.0       1.00      0.91      0.95      2684\n",
      "         2.0       0.94      1.00      0.97      2690\n",
      "         3.0       0.76      1.00      0.86      2758\n",
      "         4.0       0.97      0.73      0.83      2769\n",
      "         5.0       0.88      0.84      0.86      2849\n",
      "\n",
      "    accuracy                           0.89     13750\n",
      "   macro avg       0.91      0.89      0.89     13750\n",
      "weighted avg       0.91      0.89      0.89     13750\n",
      " \n",
      "\n",
      "=========Confusion Matrix============\n",
      "[[2436  119  129    0    0]\n",
      " [   0 2690    0    0    0]\n",
      " [   0    0 2758    0    0]\n",
      " [   0   44  398 2015  312]\n",
      " [   8   21  361   68 2391]]\n"
     ]
    }
   ],
   "source": [
    "#Using the MultinomialNB algorithm to check the accuray score,MultinomialNB and Confusion Matrix:\n",
    "nb=MultinomialNB()\n",
    "nb.fit(x_train,y_train)\n",
    "y_prednb=nb.predict(x_test\n",
    "\n",
    "print('\\n==========Outputs of MultinomialNB===========')\n",
    "\n",
    "print('\\n==========Accuracy Score===========')\n",
    "print(f\"Accuracy Score is : {accuracy_score(y_test,y_prednb)* 100:.2f}%\\n\")\n",
    "\n",
    "print('======Classification Report=============')\n",
    "print(classification_report(y_test,y_prednb,digits=2),'\\n')\n",
    "\n",
    "print('=========Confusion Matrix============')\n",
    "print(confusion_matrix(y_test,y_prednb))"
   ]
  },
  {
   "cell_type": "code",
   "execution_count": 32,
   "metadata": {},
   "outputs": [
    {
     "name": "stdout",
     "output_type": "stream",
     "text": [
      "\n",
      "==========Outputs of Random Forest Classifier===========\n",
      "\n",
      "==========Accuracy Score===========\n",
      "Accuracy Score is : 94.37%\n",
      "\n",
      "======Classification Report=============\n",
      "              precision    recall  f1-score   support\n",
      "\n",
      "         1.0       0.98      1.00      0.99      2684\n",
      "         2.0       1.00      1.00      1.00      2690\n",
      "         3.0       0.81      1.00      0.90      2758\n",
      "         4.0       0.98      0.85      0.91      2769\n",
      "         5.0       0.98      0.88      0.93      2849\n",
      "\n",
      "    accuracy                           0.94     13750\n",
      "   macro avg       0.95      0.94      0.94     13750\n",
      "weighted avg       0.95      0.94      0.94     13750\n",
      " \n",
      "\n",
      "=========Confusion Matrix============\n",
      "[[2684    0    0    0    0]\n",
      " [   0 2690    0    0    0]\n",
      " [   0    0 2758    0    0]\n",
      " [  44    0  344 2341   40]\n",
      " [   6    0  297   43 2503]]\n"
     ]
    }
   ],
   "source": [
    "#Using the RandomForestClassifier algorithm to check the accuray score,Classification and Confusion Matrix:\n",
    "\n",
    "rfc=RandomForestClassifier()\n",
    "rfc.fit(x_train,y_train)\n",
    "y_predrfc=rfc.predict(x_test)\n",
    "\n",
    "print('\\n==========Outputs of Random Forest Classifier===========')\n",
    "\n",
    "print('\\n==========Accuracy Score===========')\n",
    "print(f\"Accuracy Score is : {accuracy_score(y_test,y_predrfc)* 100:.2f}%\\n\")\n",
    "\n",
    "print('======Classification Report=============')\n",
    "print(classification_report(y_test,y_predrfc,digits=2),'\\n')\n",
    "\n",
    "print('=========Confusion Matrix============')\n",
    "print(confusion_matrix(y_test,y_predrfc))"
   ]
  },
  {
   "cell_type": "code",
   "execution_count": 33,
   "metadata": {},
   "outputs": [
    {
     "name": "stdout",
     "output_type": "stream",
     "text": [
      "\n",
      "==========Outputs of Logistics Reggression===========\n",
      "\n",
      "==========Accuracy Score===========\n",
      "Accuracy Score is : 93.82%\n",
      "\n",
      "======Classification Report=============\n",
      "              precision    recall  f1-score   support\n",
      "\n",
      "         1.0       0.98      1.00      0.99      2684\n",
      "         2.0       1.00      1.00      1.00      2690\n",
      "         3.0       0.81      1.00      0.89      2758\n",
      "         4.0       0.99      0.82      0.89      2769\n",
      "         5.0       0.95      0.88      0.92      2849\n",
      "\n",
      "    accuracy                           0.94     13750\n",
      "   macro avg       0.95      0.94      0.94     13750\n",
      "weighted avg       0.95      0.94      0.94     13750\n",
      " \n",
      "\n",
      "=========Confusion Matrix============\n",
      "[[2684    0    0    0    0]\n",
      " [   0 2690    0    0    0]\n",
      " [   0    0 2758    0    0]\n",
      " [  44    0  344 2262  119]\n",
      " [   6    0  312   25 2506]]\n"
     ]
    }
   ],
   "source": [
    "#Using the Logistics Reggression algorithm to check the accuray score,DecisionTreeClassifier and Confusion Matrix:\n",
    "lr=LogisticRegression()\n",
    "lr.fit(x_train,y_train)\n",
    "y_predlr=lr.predict(x_test)\n",
    "\n",
    "print('\\n==========Outputs of Logistics Reggression===========')\n",
    "\n",
    "print('\\n==========Accuracy Score===========')\n",
    "print(f\"Accuracy Score is : {accuracy_score(y_test,y_predlr)* 100:.2f}%\\n\")\n",
    "\n",
    "print('======Classification Report=============')\n",
    "print(classification_report(y_test,y_predlr,digits=2),'\\n')\n",
    "\n",
    "print('=========Confusion Matrix============')\n",
    "print(confusion_matrix(y_test,y_predlr))"
   ]
  },
  {
   "cell_type": "code",
   "execution_count": 34,
   "metadata": {},
   "outputs": [
    {
     "name": "stdout",
     "output_type": "stream",
     "text": [
      "\n",
      "==========Outputs of DT===========\n",
      "\n",
      "==========Accuracy Score===========\n",
      "Accuracy Score is : 94.37%\n",
      "\n",
      "======Classification Report=============\n",
      "              precision    recall  f1-score   support\n",
      "\n",
      "         1.0       0.98      1.00      0.99      2684\n",
      "         2.0       1.00      1.00      1.00      2690\n",
      "         3.0       0.81      1.00      0.90      2758\n",
      "         4.0       0.98      0.85      0.91      2769\n",
      "         5.0       0.98      0.88      0.93      2849\n",
      "\n",
      "    accuracy                           0.94     13750\n",
      "   macro avg       0.95      0.94      0.94     13750\n",
      "weighted avg       0.95      0.94      0.94     13750\n",
      " \n",
      "\n",
      "=========Confusion Matrix============\n",
      "[[2684    0    0    0    0]\n",
      " [   0 2690    0    0    0]\n",
      " [   0    0 2758    0    0]\n",
      " [  44    0  344 2341   40]\n",
      " [   6    0  297   43 2503]]\n"
     ]
    }
   ],
   "source": [
    "#Using the DecisionTreeClassifier algorithm to check the accuray score,DecisionTreeClassifier and Confusion Matrix:\n",
    "dt=DecisionTreeClassifier()\n",
    "dt.fit(x_train,y_train)\n",
    "y_preddt=dt.predict(x_test)\n",
    "\n",
    "print('\\n==========Outputs of DT===========')\n",
    "\n",
    "print('\\n==========Accuracy Score===========')\n",
    "print(f\"Accuracy Score is : {accuracy_score(y_test,y_preddt)* 100:.2f}%\\n\")\n",
    "\n",
    "print('======Classification Report=============')\n",
    "print(classification_report(y_test,y_preddt,digits=2),'\\n')\n",
    "\n",
    "print('=========Confusion Matrix============')\n",
    "print(confusion_matrix(y_test,y_preddt))"
   ]
  },
  {
   "cell_type": "code",
   "execution_count": 35,
   "metadata": {},
   "outputs": [
    {
     "name": "stdout",
     "output_type": "stream",
     "text": [
      "\n",
      "==========Outputs of ADA Boost===========\n",
      "\n",
      "==========Accuracy Score===========\n",
      "Accuracy Score is : 39.19%\n",
      "\n",
      "======Classification Report=============\n",
      "              precision    recall  f1-score   support\n",
      "\n",
      "         1.0       0.41      0.29      0.34      2684\n",
      "         2.0       0.99      0.67      0.80      2690\n",
      "         3.0       0.74      0.04      0.07      2758\n",
      "         4.0       0.27      0.78      0.40      2769\n",
      "         5.0       0.28      0.20      0.23      2849\n",
      "\n",
      "    accuracy                           0.39     13750\n",
      "   macro avg       0.54      0.39      0.37     13750\n",
      "weighted avg       0.54      0.39      0.37     13750\n",
      " \n",
      "\n",
      "=========Confusion Matrix============\n",
      "[[ 783    0    0 1661  240]\n",
      " [ 890 1800    0    0    0]\n",
      " [  55    0   99 1859  745]\n",
      " [ 114   19   23 2147  466]\n",
      " [  60    0   11 2218  560]]\n"
     ]
    }
   ],
   "source": [
    "#Using the AdaBoostClassifier algorithm to check the accuray score,DecisionTreeClassifier and Confusion Matrix:\n",
    "abc=AdaBoostClassifier()\n",
    "abc.fit(x_train,y_train)\n",
    "y_predabc=abc.predict(x_test)\n",
    "\n",
    "print('\\n==========Outputs of ADA Boost===========')\n",
    "\n",
    "print('\\n==========Accuracy Score===========')\n",
    "print(f\"Accuracy Score is : {accuracy_score(y_test,y_predabc)* 100:.2f}%\\n\")\n",
    "\n",
    "print('======Classification Report=============')\n",
    "print(classification_report(y_test,y_predabc,digits=2),'\\n')\n",
    "\n",
    "print('=========Confusion Matrix============')\n",
    "print(confusion_matrix(y_test,y_predabc))"
   ]
  },
  {
   "cell_type": "code",
   "execution_count": 36,
   "metadata": {},
   "outputs": [
    {
     "name": "stdout",
     "output_type": "stream",
     "text": [
      "\n",
      "==========Outputs of KNeighborsClassifier===========\n",
      "\n",
      "==========Accuracy Score===========\n",
      "Accuracy Score is : 94.27%\n",
      "\n",
      "======Classification Report=============\n",
      "              precision    recall  f1-score   support\n",
      "\n",
      "         1.0       1.00      0.98      0.99      2684\n",
      "         2.0       1.00      1.00      1.00      2690\n",
      "         3.0       0.81      1.00      0.90      2758\n",
      "         4.0       0.96      0.86      0.91      2769\n",
      "         5.0       0.98      0.88      0.93      2849\n",
      "\n",
      "    accuracy                           0.94     13750\n",
      "   macro avg       0.95      0.94      0.94     13750\n",
      "weighted avg       0.95      0.94      0.94     13750\n",
      " \n",
      "\n",
      "=========Confusion Matrix============\n",
      "[[2626    0    0   58    0]\n",
      " [   0 2690    0    0    0]\n",
      " [   0    0 2758    0    0]\n",
      " [   0    0  344 2385   40]\n",
      " [   6    0  297   43 2503]]\n"
     ]
    }
   ],
   "source": [
    "#Using the KNeighborsClassifier algorithm to check the accuray score,DecisionTreeClassifier and Confusion Matrix:\n",
    "\n",
    "knn=KNeighborsClassifier()\n",
    "knn.fit(x_train,y_train)\n",
    "y_predknn=knn.predict(x_test)\n",
    "\n",
    "print('\\n==========Outputs of KNeighborsClassifier===========')\n",
    "\n",
    "print('\\n==========Accuracy Score===========')\n",
    "print(f\"Accuracy Score is : {accuracy_score(y_test,y_predknn)* 100:.2f}%\\n\")\n",
    "\n",
    "print('======Classification Report=============')\n",
    "print(classification_report(y_test,y_predknn,digits=2),'\\n')\n",
    "\n",
    "print('=========Confusion Matrix============')\n",
    "print(confusion_matrix(y_test,y_predknn))"
   ]
  },
  {
   "cell_type": "code",
   "execution_count": 38,
   "metadata": {},
   "outputs": [
    {
     "name": "stdout",
     "output_type": "stream",
     "text": [
      "\n",
      "==========Cross Validation Score of Logistices Classifier===========\n",
      "Cross validation for the Logistices Classifier is: 94.08%\n",
      "\n",
      "\n",
      "==========Cross Validation Score of Random Forest Classifier===========\n",
      "Cross validation for the Random Forest Classifier is: 94.71%\n",
      "\n",
      "\n",
      "=============Cross Validation Score of Decision Tree====================\n",
      "Cross validation for the Decision Tree is: 94.71%\n",
      "\n",
      "\n",
      "=============Cross Validation Score of AdaBoost Classifier==============\n",
      "Cross validation for the AdaBoost Classifier is: 35.14%\n",
      "\n",
      "\n",
      "===================Cross Validation Score of MultinomialNB========================\n",
      "Cross validation for the MultinomialNB is: 89.38%\n",
      "\n"
     ]
    }
   ],
   "source": [
    "print('\\n==========Cross Validation Score of Logistices Classifier===========')\n",
    "cvs_lr=cross_val_score(lr,x_fit,y_fit,cv=5)\n",
    "print(f\"Cross validation for the Logistices Classifier is: {cvs_lr.mean()*100:.2f}%\\n\")\n",
    "\n",
    "print('\\n==========Cross Validation Score of Random Forest Classifier===========')\n",
    "cvs_rfc=cross_val_score(rfc,x_fit,y_fit,cv=5)\n",
    "print(f\"Cross validation for the Random Forest Classifier is: {cvs_rfc.mean()*100:.2f}%\\n\")\n",
    "\n",
    "print('\\n=============Cross Validation Score of Decision Tree====================')\n",
    "cvs_dt=cross_val_score(dt,x_fit,y_fit,cv=5)\n",
    "print(f\"Cross validation for the Decision Tree is: {cvs_dt.mean()*100:.2f}%\\n\")\n",
    "\n",
    "print('\\n=============Cross Validation Score of AdaBoost Classifier==============')\n",
    "cvs_abc=cross_val_score(abc,x_fit,y_fit,cv=5)\n",
    "print(f\"Cross validation for the AdaBoost Classifier is: {cvs_abc.mean()*100:.2f}%\\n\")\n",
    "\n",
    "#print('\\n===================Cross Validation Score of KNN========================')\n",
    "#cvs_knn=cross_val_score(knn,x_fit,y_fit,cv=5)\n",
    "#print(f\"Cross validation for the KNN Classifier is: {cvs_knn.mean()*100:.2f}%\\n\")\n",
    "\n",
    "print('\\n===================Cross Validation Score of MultinomialNB========================')\n",
    "cvs_nb=cross_val_score(nb,x_fit,y_fit,cv=5)\n",
    "print(f\"Cross validation for the MultinomialNB is: {cvs_nb.mean()*100:.2f}%\\n\")"
   ]
  },
  {
   "cell_type": "code",
   "execution_count": null,
   "metadata": {},
   "outputs": [],
   "source": [
    "#we select the MultinomialNB after comaparing all the models accuracy with the cross validation score.\n",
    "#LR: Accuracy:94.08   cross validation score:93.82  Diffrence:0.26\n",
    "#DT: Accuracy:94.71   cross validation score:94.37  Diffrence:0.34\n",
    "#ADA: Accuracy:35.14   cross validation score:39.19  Diffrence:-4.05\n",
    "#RFC: Accuracy:94.71   cross validation score:94.37  Diffrence:0.34\n",
    "#MNB: Accuracy:89.38   cross validation score:89.38  Diffrence:0\n",
    "\n",
    "#As we can see the MultinomialNB has No differnece and accuracy is also 89.38 so we can select it for hyper parameter tuing."
   ]
  },
  {
   "cell_type": "code",
   "execution_count": 44,
   "metadata": {},
   "outputs": [],
   "source": [
    "#Now Appling the gridsearchcv beofore building the model to check the best parameter.\n",
    "best_param={'alpha':[0.1,0.4,0.7,1,1.2],\n",
    "           'fit_prior':[True,False]}"
   ]
  },
  {
   "cell_type": "code",
   "execution_count": 45,
   "metadata": {},
   "outputs": [],
   "source": [
    "gridcv=GridSearchCV(nb,param_grid=best_param)"
   ]
  },
  {
   "cell_type": "code",
   "execution_count": 46,
   "metadata": {},
   "outputs": [
    {
     "data": {
      "text/plain": [
       "GridSearchCV(estimator=MultinomialNB(),\n",
       "             param_grid={'alpha': [0.1, 0.4, 0.7, 1, 1.2],\n",
       "                         'fit_prior': [True, False]})"
      ]
     },
     "execution_count": 46,
     "metadata": {},
     "output_type": "execute_result"
    }
   ],
   "source": [
    "gridcv.fit(x_train,y_train)"
   ]
  },
  {
   "cell_type": "code",
   "execution_count": 47,
   "metadata": {},
   "outputs": [
    {
     "data": {
      "text/plain": [
       "{'alpha': 0.1, 'fit_prior': True}"
      ]
     },
     "execution_count": 47,
     "metadata": {},
     "output_type": "execute_result"
    }
   ],
   "source": [
    "gridcv.best_params_"
   ]
  },
  {
   "cell_type": "code",
   "execution_count": 53,
   "metadata": {},
   "outputs": [
    {
     "name": "stdout",
     "output_type": "stream",
     "text": [
      "\n",
      "==========Outputs of MultinomialNB===========\n",
      "\n",
      "==========Accuracy Score===========\n",
      "Accuracy Score is : 89.38%\n",
      "\n",
      "======Classification Report=============\n",
      "              precision    recall  f1-score   support\n",
      "\n",
      "         1.0       1.00      0.91      0.95      2684\n",
      "         2.0       0.94      1.00      0.97      2690\n",
      "         3.0       0.76      1.00      0.86      2758\n",
      "         4.0       0.97      0.73      0.83      2769\n",
      "         5.0       0.88      0.84      0.86      2849\n",
      "\n",
      "    accuracy                           0.89     13750\n",
      "   macro avg       0.91      0.89      0.89     13750\n",
      "weighted avg       0.91      0.89      0.89     13750\n",
      " \n",
      "\n",
      "=========Confusion Matrix============\n",
      "[[2436  119  129    0    0]\n",
      " [   0 2690    0    0    0]\n",
      " [   0    0 2758    0    0]\n",
      " [   0   44  398 2015  312]\n",
      " [   8   21  361   68 2391]]\n"
     ]
    }
   ],
   "source": [
    "#Using the MultinomialNB algorithm to check the accuray score,MultinomialNB and Confusion Matrix:\n",
    "nb=MultinomialNB(alpha= 0.4, fit_prior= True)\n",
    "nb.fit(x_train,y_train)\n",
    "y_prednb=nb.predict(x_test)\n",
    "\n",
    "print('\\n==========Outputs of MultinomialNB===========')\n",
    "\n",
    "print('\\n==========Accuracy Score===========')\n",
    "print(f\"Accuracy Score is : {accuracy_score(y_test,y_prednb)* 100:.2f}%\\n\")\n",
    "\n",
    "print('======Classification Report=============')\n",
    "print(classification_report(y_test,y_prednb,digits=2),'\\n')\n",
    "\n",
    "print('=========Confusion Matrix============')\n",
    "print(confusion_matrix(y_test,y_prednb))"
   ]
  },
  {
   "cell_type": "code",
   "execution_count": null,
   "metadata": {},
   "outputs": [],
   "source": [
    "#there is no change after the hyper parameter tuning so we as finalizing the MultinomialNB as our final model."
   ]
  },
  {
   "cell_type": "code",
   "execution_count": 54,
   "metadata": {},
   "outputs": [],
   "source": [
    "#importiing the library\n",
    "import joblib"
   ]
  },
  {
   "cell_type": "code",
   "execution_count": 55,
   "metadata": {},
   "outputs": [
    {
     "data": {
      "text/plain": [
       "['Rating_model.pkl']"
      ]
     },
     "execution_count": 55,
     "metadata": {},
     "output_type": "execute_result"
    }
   ],
   "source": [
    "#saving the file\n",
    "joblib.dump(nb,'Rating_model.pkl')"
   ]
  },
  {
   "cell_type": "code",
   "execution_count": null,
   "metadata": {},
   "outputs": [],
   "source": [
    "#this complete our model building."
   ]
  }
 ],
 "metadata": {
  "kernelspec": {
   "display_name": "Python 3",
   "language": "python",
   "name": "python3"
  },
  "language_info": {
   "codemirror_mode": {
    "name": "ipython",
    "version": 3
   },
   "file_extension": ".py",
   "mimetype": "text/x-python",
   "name": "python",
   "nbconvert_exporter": "python",
   "pygments_lexer": "ipython3",
   "version": "3.8.5"
  }
 },
 "nbformat": 4,
 "nbformat_minor": 4
}
